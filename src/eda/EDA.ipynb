{
 "cells": [
  {
   "cell_type": "markdown",
   "id": "0b3a691a-e1dc-451c-b2fb-2ea4fd4c995b",
   "metadata": {},
   "source": [
    "Example for a EDA Notebook (bare bone, to keep the focus on the DevOps aspects of the project)."
   ]
  },
  {
   "cell_type": "code",
   "execution_count": 1,
   "id": "3e015ada-6ba8-4700-bcac-6462843b9dad",
   "metadata": {},
   "outputs": [
    {
     "name": "stderr",
     "output_type": "stream",
     "text": [
      "\u001b[34m\u001b[1mwandb\u001b[0m: Using wandb-core as the SDK backend.  Please refer to https://wandb.me/wandb-core for more information.\n",
      "\u001b[34m\u001b[1mwandb\u001b[0m: Currently logged in as: \u001b[33moliver-grau\u001b[0m (\u001b[33mgrausoft\u001b[0m). Use \u001b[1m`wandb login --relogin`\u001b[0m to force relogin\n"
     ]
    },
    {
     "data": {
      "text/html": [
       "Tracking run with wandb version 0.18.7"
      ],
      "text/plain": [
       "<IPython.core.display.HTML object>"
      ]
     },
     "metadata": {},
     "output_type": "display_data"
    },
    {
     "data": {
      "text/html": [
       "Run data is saved locally in <code>/home/oliver/python-projects/showcase_airbnb_regression/src/eda/wandb/run-20241125_145848-tz33djzg</code>"
      ],
      "text/plain": [
       "<IPython.core.display.HTML object>"
      ]
     },
     "metadata": {},
     "output_type": "display_data"
    },
    {
     "data": {
      "text/html": [
       "Syncing run <strong><a href='https://wandb.ai/grausoft/nyc_airbnb/runs/tz33djzg' target=\"_blank\">dry-lion-27</a></strong> to <a href='https://wandb.ai/grausoft/nyc_airbnb' target=\"_blank\">Weights & Biases</a> (<a href='https://wandb.me/developer-guide' target=\"_blank\">docs</a>)<br/>"
      ],
      "text/plain": [
       "<IPython.core.display.HTML object>"
      ]
     },
     "metadata": {},
     "output_type": "display_data"
    },
    {
     "data": {
      "text/html": [
       " View project at <a href='https://wandb.ai/grausoft/nyc_airbnb' target=\"_blank\">https://wandb.ai/grausoft/nyc_airbnb</a>"
      ],
      "text/plain": [
       "<IPython.core.display.HTML object>"
      ]
     },
     "metadata": {},
     "output_type": "display_data"
    },
    {
     "data": {
      "text/html": [
       " View run at <a href='https://wandb.ai/grausoft/nyc_airbnb/runs/tz33djzg' target=\"_blank\">https://wandb.ai/grausoft/nyc_airbnb/runs/tz33djzg</a>"
      ],
      "text/plain": [
       "<IPython.core.display.HTML object>"
      ]
     },
     "metadata": {},
     "output_type": "display_data"
    }
   ],
   "source": [
    "import wandb\n",
    "import pandas as pd\n",
    " \n",
    "run = wandb.init(project=\"nyc_airbnb\", group=\"eda\", save_code=True)\n",
    "local_path = wandb.use_artifact(\"sample1.csv:latest\").file()\n",
    "df = pd.read_csv(local_path)"
   ]
  },
  {
   "cell_type": "markdown",
   "id": "ad35bdaf-a75c-4d3f-be11-ed88bae3e04c",
   "metadata": {},
   "source": [
    "Pandas (ydata) Profiling Tool is really great. Whish I had known sooner. Of course pandas_profiling is deprecated so I used ydata_profiling instead."
   ]
  },
  {
   "cell_type": "code",
   "execution_count": 2,
   "id": "1337c45a-7b05-4b0f-8a47-a315a82aab0d",
   "metadata": {},
   "outputs": [
    {
     "data": {
      "application/vnd.jupyter.widget-view+json": {
       "model_id": "fc8ed32717b74edcbf57478364188e7f",
       "version_major": 2,
       "version_minor": 0
      },
      "text/plain": [
       "Summarize dataset:   0%|          | 0/5 [00:00<?, ?it/s]"
      ]
     },
     "metadata": {},
     "output_type": "display_data"
    },
    {
     "data": {
      "application/vnd.jupyter.widget-view+json": {
       "model_id": "2ff8dcdd33544044b01a645e70d4d4a1",
       "version_major": 2,
       "version_minor": 0
      },
      "text/plain": [
       "Generate report structure:   0%|          | 0/1 [00:00<?, ?it/s]"
      ]
     },
     "metadata": {},
     "output_type": "display_data"
    },
    {
     "data": {
      "application/vnd.jupyter.widget-view+json": {
       "model_id": "",
       "version_major": 2,
       "version_minor": 0
      },
      "text/plain": [
       "Render widgets:   0%|          | 0/1 [00:00<?, ?it/s]"
      ]
     },
     "metadata": {},
     "output_type": "display_data"
    },
    {
     "data": {
      "application/vnd.jupyter.widget-view+json": {
       "model_id": "ac162da83f0b43e1ad0c6df7a6b2935d",
       "version_major": 2,
       "version_minor": 0
      },
      "text/plain": [
       "VBox(children=(Tab(children=(Tab(children=(GridBox(children=(VBox(children=(GridspecLayout(children=(HTML(valu…"
      ]
     },
     "metadata": {},
     "output_type": "display_data"
    }
   ],
   "source": [
    "import ydata_profiling\n",
    "\n",
    "# Generate the profile report\n",
    "profile = ydata_profiling.ProfileReport(df)\n",
    "\n",
    "# Render the report as widgets (Jupyter Notebook)\n",
    "profile.to_widgets()"
   ]
  },
  {
   "cell_type": "markdown",
   "id": "cf284762-735c-4f5b-b783-f21156eed2b2",
   "metadata": {},
   "source": [
    "Fix some errors for demonstration purposes only. Note that we don't impute here anything, this will be done in the inference pipeline so we will be able to handle missing values in production also."
   ]
  },
  {
   "cell_type": "code",
   "execution_count": 3,
   "id": "34eff6d4-103e-4b0e-a120-3a014b554a67",
   "metadata": {},
   "outputs": [],
   "source": [
    "# Drop outliers\n",
    "min_price = 10\n",
    "max_price = 350\n",
    "idx = df['price'].between(min_price, max_price)\n",
    "df = df[idx].copy()\n",
    "# Convert last_review to datetime\n",
    "df['last_review'] = pd.to_datetime(df['last_review'])\n",
    "\n",
    "# fix: long/lat out of boundary\n",
    "idx = df['longitude'].between(-74.25, -73.50) & df['latitude'].between(40.5, 41.2)\n",
    "df = df[idx].copy()"
   ]
  },
  {
   "cell_type": "markdown",
   "id": "62ea4431-8670-4d20-bbb7-c12a5964d5aa",
   "metadata": {},
   "source": [
    "Now finish the current run (for wandb)."
   ]
  },
  {
   "cell_type": "code",
   "execution_count": 5,
   "id": "e4d5c925-62f5-440b-ac2e-fda8e1478110",
   "metadata": {},
   "outputs": [
    {
     "data": {
      "text/html": [
       " View run <strong style=\"color:#cdcd00\">eager-glitter-3</strong> at: <a href='https://wandb.ai/grausoft/nyc_airbnb/runs/zir7ntu0' target=\"_blank\">https://wandb.ai/grausoft/nyc_airbnb/runs/zir7ntu0</a><br/> View project at: <a href='https://wandb.ai/grausoft/nyc_airbnb' target=\"_blank\">https://wandb.ai/grausoft/nyc_airbnb</a><br/>Synced 5 W&B file(s), 0 media file(s), 0 artifact file(s) and 0 other file(s)"
      ],
      "text/plain": [
       "<IPython.core.display.HTML object>"
      ]
     },
     "metadata": {},
     "output_type": "display_data"
    },
    {
     "data": {
      "text/html": [
       "Find logs at: <code>./wandb/run-20241125_143003-zir7ntu0/logs</code>"
      ],
      "text/plain": [
       "<IPython.core.display.HTML object>"
      ]
     },
     "metadata": {},
     "output_type": "display_data"
    }
   ],
   "source": [
    "run.finish()"
   ]
  }
 ],
 "metadata": {
  "kernelspec": {
   "display_name": "Python 3 (ipykernel)",
   "language": "python",
   "name": "python3"
  },
  "language_info": {
   "codemirror_mode": {
    "name": "ipython",
    "version": 3
   },
   "file_extension": ".py",
   "mimetype": "text/x-python",
   "name": "python",
   "nbconvert_exporter": "python",
   "pygments_lexer": "ipython3",
   "version": "3.9.20"
  }
 },
 "nbformat": 4,
 "nbformat_minor": 5
}
